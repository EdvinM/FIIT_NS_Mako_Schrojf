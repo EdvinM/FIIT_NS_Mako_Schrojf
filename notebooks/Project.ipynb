{
 "cells": [
  {
   "cell_type": "markdown",
   "metadata": {},
   "source": [
    "# Automatizovaná detekcia veku a pohlavia z fotky s využitím CNN.\n",
    "\n",
    "_**Authors:** (Edvin Mako, Viliam Schrojf)_\n",
    "\n",
    "## Motivation\n",
    "\n",
    "Cieľom projektu je navrhnúť a realizovať konvolučńú neuronovu sieť s pomocou technológie TensorFlow, ktorá dokáže z fotky tváre osoby detegovať jej vybrané črty. Primárne sa sústredíme na detekciu veku a pohlavia. Pre tento účel sme našli aj vhodnú dátovú sadu, nad ktorou plánujeme model natrénovať. V rámci projektu, sa budeme snažiť experimentovať s rôznymi črtami, ktoré nám v predikcií veku pomôžu.\n",
    "\n",
    "Myslíme si že táto úloha je dôležitá a môže mať uplatnenie v rôznych systémoch, kde je nutné zadať vek alebo dátum narodenia a fotku tváre. Správcovia systémov by týmto spôsobom overili správnosť zadaných údajov jednoducho.\n",
    "\n",
    "V budúcnosti vieme náš model rozšíriť aj detekciu ďalších čŕt, ako napríklad: farba a typ vlasov, farba a umiestnenie očí a iných častí tváre (Nie je súčasťou tohto projektu).\n",
    "\n",
    "Pri analýze tejto úlohy, sme sa zamysleli nad nasledovnými otázkami. Dokážeme navrhnúť podobnú konvolučnú sieť s menším počtom vrstiev, alebo iným usporiadanim ako VGG? Aká výkonná bude naša sieť a kolko ju budeme trénovať? Je VGG najlepším riešením podobných úloh?\n",
    "\n",
    "## Related Work\n",
    "\n",
    "Vychádzame z práce výskumného tímu pre počítačové videnia z ETH Zurich, ktorý podobné typy úloh riešia pomocou modifikácie VGG-16 siete predtrénovanej na datasete ImageNet. Ich prístup k riešení tejto úlohy bol najprv z fotky detekovať a vyrezať tvár, ktorá potom prešla sadou konvolučných neurónových sietí, ktoré estimovali vek osoby. Natrénovaná neurónová sieť bola optimizovaná na detekciu črt z daných fotiek. \n",
    "\n",
    "Tento tím nazbieral dáta celebrít z IMDB a wikipedie spolu z informáciami o ich veku, a ich zverejnil. Pre účel tohto projektu, budeme aj my tieto dáta používať [1].\n",
    "\n",
    "Existujú aj podobné riešenia, ktoré modifikujú konečné vrstvy konvolučnej siete, ktorá bola predtrénovaná na detekciu tváre v obrázku na VGG-Face Modely. Zamenia iba niekolko z posledných vrstiev a tie trénujú. Prvé vrstvy ostatnú bez zmeny, ako boli natrénované inou skupinou. Aplikujú transfer learning [2].\n",
    "\n",
    "## Datasets\n",
    "\n",
    "K dispozícii máme veľký dataset s názvom “The IMDB-WIKI dataset” [1][3], ktorý obsahuje vyše 520.000 obrázkov rôznych celebrít. Každý obrázok obsahuje metainformácie s dátumom narodenia, menom osoby, rok kedy bola fotka vytvorená, oblasť tváre, pohlavie a dátum narodenia danej osoby, údaj ktorý využijeme na trénovanie neurónovej sieti.\n",
    "\n",
    "Každý metaúdaj obsahuje tiež aj skóre na koľko je informácia o tvári a pohlavia spoľahlivá. V rámci prípravy datasetu vyberieme iba prvých 100 000 obrázkov, ktoré budú zoradené podľa najlepšieho skóre oblasti tváre. Následne tento dataset rozšíriť o natočené a naškálované obrázky s pridaným okrajom (paddingom).\n",
    "\n",
    "## High-Level Solution Proposal\n",
    "\n",
    "Ako prvú myšlienku o krokoch implementácie našej neurónovej siete, nájdeme v nasledujúcich riadkoch\n",
    "\n",
    "1. Vyberieme iba nejaký počet najspoľahlivejších obrázkov.\n",
    "2. Overíme pomocu jednoduchej analýzi, vytvoríme histogram veku a pohlavia. Najmladšiu a najstaršiu fotku. Určiť hranice modelu. Fotky detí od 0-16, alebo ľudí starších ako 90 rokov tam asi nebudú.\n",
    "3. Rozšíríme dataset o zväčšené a zmenšené obrázky (scaling). Každý obrázok aj mierne natočíme.\n",
    "4. Z vybraných fotiek najprv orežeme iba oblasť tváre.\n",
    "5. Rozdelíme na testovaciu a trenovaciu vzorku.\n",
    "6. Budeme experimentovať a porovnávať rôzne konfigurácie konvolučných vrstiev.\n",
    "7. Na konci aplikujeme SOFTMAX funkciu. Použijeme podobnú konfiguraciu so 101 neuronmi pre vek {0, 1, 2, …, 99, 100} ako [3].\n",
    "8. Niekolko predtrenovanych konfigurácii uložíme spolu s ich váhami a následne porovnáme a vyberieme najlepšiu konfiguráciu vrstiev.\n",
    "\n",
    "### Ako možné experimenty a rozšírenia:\n",
    "\n",
    "- Amotovať ďalšie časti tváre na obrázku\n",
    "- Skúsiť pridať ďalšie črty, ako dĺžku vlasov, upravené obočie, peri, atď.\n",
    "- Aplikovať transfer learning na nové črty\n",
    "- Skúsiť pridať tváre ľudí, ktorý vyzerajú mladši alebo starší ako ich aktuálny vek a pozrieť sa na výsledok predikcie.\n"
   ]
  },
  {
   "cell_type": "markdown",
   "metadata": {},
   "source": [
    "Install addition packages: `pip install numpy scipy matplotlib ipython jupyter pandas sympy nose`"
   ]
  },
  {
   "cell_type": "code",
   "execution_count": 6,
   "metadata": {},
   "outputs": [],
   "source": [
    "import scipy.io\n",
    "import pandas as pd\n",
    "\n",
    "import matplotlib as mpl\n",
    "import matplotlib.pyplot as plt\n",
    "\n",
    "import tensorflow as tf\n",
    "import tensorflow.keras as keras\n",
    "import numpy as np"
   ]
  },
  {
   "cell_type": "code",
   "execution_count": 7,
   "metadata": {},
   "outputs": [
    {
     "data": {
      "text/plain": [
       "[('wiki', (1, 1), 'struct')]"
      ]
     },
     "execution_count": 7,
     "metadata": {},
     "output_type": "execute_result"
    }
   ],
   "source": [
    "scipy.io.whosmat('dataset/wiki_crop/wiki.mat')"
   ]
  },
  {
   "cell_type": "code",
   "execution_count": 8,
   "metadata": {},
   "outputs": [],
   "source": [
    "wiki_mat = scipy.io.loadmat('dataset/wiki_crop/wiki.mat')"
   ]
  },
  {
   "cell_type": "code",
   "execution_count": 9,
   "metadata": {},
   "outputs": [
    {
     "data": {
      "text/plain": [
       "{'__header__': b'MATLAB 5.0 MAT-file, Platform: GLNXA64, Created on: Sat Jan 16 16:25:20 2016',\n",
       " '__version__': '1.0',\n",
       " '__globals__': [],\n",
       " 'wiki': array([[(array([[723671, 703186, 711677, ..., 720620, 723893, 713846]], dtype=int32), array([[2009, 1964, 2008, ..., 2013, 2011, 2008]], dtype=uint16), array([[array(['17/10000217_1981-05-05_2009.jpg'], dtype='<U31'),\n",
       "         array(['48/10000548_1925-04-04_1964.jpg'], dtype='<U31'),\n",
       "         array(['12/100012_1948-07-03_2008.jpg'], dtype='<U29'), ...,\n",
       "         array(['09/9998109_1972-12-27_2013.jpg'], dtype='<U30'),\n",
       "         array(['00/9999400_1981-12-13_2011.jpg'], dtype='<U30'),\n",
       "         array(['80/999980_1954-06-11_2008.jpg'], dtype='<U29')]],\n",
       "       dtype=object), array([[1., 1., 1., ..., 1., 1., 0.]]), array([[array(['Sami Jauhojärvi'], dtype='<U15'),\n",
       "         array(['Dettmar Cramer'], dtype='<U14'),\n",
       "         array(['Marc Okrand'], dtype='<U11'), ...,\n",
       "         array(['Michael Wiesinger'], dtype='<U17'),\n",
       "         array(['Johann Grugger'], dtype='<U14'),\n",
       "         array(['Greta Van Susteren'], dtype='<U18')]], dtype=object), array([[array([[111.29109473, 111.29109473, 252.66993082, 252.66993082]]),\n",
       "         array([[252.4833023 , 126.68165115, 354.53192596, 228.73027481]]),\n",
       "         array([[113.52, 169.84, 366.08, 422.4 ]]), ...,\n",
       "         array([[169.88839786,  74.31669472, 235.2534231 , 139.68171997]]),\n",
       "         array([[1, 1, 1, 1]], dtype=uint8),\n",
       "         array([[ 92.72633235,  62.0435549 , 230.12083087, 199.43805342]])]],\n",
       "       dtype=object), array([[4.30096239, 2.6456395 , 4.32932883, ..., 3.49430317,       -inf,\n",
       "         5.48691655]]), array([[       nan, 1.94924791,        nan, ...,        nan,        nan,\n",
       "                nan]]))]],\n",
       "       dtype=[('dob', 'O'), ('photo_taken', 'O'), ('full_path', 'O'), ('gender', 'O'), ('name', 'O'), ('face_location', 'O'), ('face_score', 'O'), ('second_face_score', 'O')])}"
      ]
     },
     "execution_count": 9,
     "metadata": {},
     "output_type": "execute_result"
    }
   ],
   "source": [
    "wiki_mat"
   ]
  },
  {
   "cell_type": "markdown",
   "metadata": {},
   "source": [
    "## Note\n",
    "\n",
    "Folder tree structure\n",
    "```text\n",
    ".\n",
    "├── dataset\n",
    "│   ├── imdb_crop\n",
    "│   │   ├── 00\n",
    "│   │   ├── 01\n",
    "...\n",
    "│   │   ├── 99\n",
    "│   │   └── imdb.mat\n",
    "│   ├── imdb_meta\n",
    "│   │   └── imdb\n",
    "│   ├── wiki\n",
    "│   │   ├── 00\n",
    "│   │   ├── 01\n",
    "...\n",
    "│   │   ├── 99\n",
    "│   │   └── wiki.mat\n",
    "│   └── wiki_crop\n",
    "│       ├── 00\n",
    "│       ├── 01\n",
    "...\n",
    "│       ├── 98\n",
    "│       ├── 99\n",
    "│       └── wiki.mat\n",
    "├── Project.ipynb\n",
    "└── README.md\n",
    "\n",
    "306 directories, 6 files\n",
    "\n",
    "```"
   ]
  },
  {
   "cell_type": "markdown",
   "metadata": {},
   "source": [
    "## Reference\n",
    "\n",
    "[1] Rasmus Rothe, Radu Timofte, and Luc Van Gool 2015. DEX: Deep EXpectation of apparent age from a single image. In IEEE International Conference on Computer Vision Workshops (ICCVW).\n",
    "\n",
    "[2] Zakariya Qawaqneh and Arafat Abu Mallouh and Buket D. Barkana 2017. Deep Convolutional Neural Network for Age Estimation based on VGG-Face Model. CoRR, abs/1709.01664.\n",
    "\n",
    "[3] Rasmus Rothe, Radu Timofte, and Luc Van Gool 2016. Deep expectation of real and apparent age from a single image without facial landmarks. International Journal of Computer Vision (IJCV)."
   ]
  },
  {
   "cell_type": "code",
   "execution_count": null,
   "metadata": {},
   "outputs": [],
   "source": []
  }
 ],
 "metadata": {
  "kernelspec": {
   "display_name": "Python 3",
   "language": "python",
   "name": "python3"
  },
  "language_info": {
   "codemirror_mode": {
    "name": "ipython",
    "version": 3
   },
   "file_extension": ".py",
   "mimetype": "text/x-python",
   "name": "python",
   "nbconvert_exporter": "python",
   "pygments_lexer": "ipython3",
   "version": "3.6.8"
  }
 },
 "nbformat": 4,
 "nbformat_minor": 2
}
