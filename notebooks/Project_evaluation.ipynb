{
 "cells": [
  {
   "cell_type": "markdown",
   "metadata": {},
   "source": [
    "# Project Evaluation\n",
    "\n",
    "__2.12.2019__\n",
    "\n",
    "---"
   ]
  },
  {
   "cell_type": "markdown",
   "metadata": {},
   "source": [
    "## Experiment A\n",
    "\n",
    "* Ako prvé sa pokúsime vytvoriť NN podobnú VGG. Podľa [WEEK_7 lab](https://github.com/matus-pikuliak/neural_networks_at_fiit/blob/92b24eef8e6444c43a22e8fa51a349b3b1043a7c/week_7/week_7.ipynb), alebo iného tutoriálu\n",
    "* Natrénujeme ju na už predspracovanom datasete\n",
    "* Jej výsledok použijeme ako štartovaciu čiaru\n",
    "* Túto sieť budeme rozširovať o ďalšie vrstvy a parametre\n",
    "* V projekte ponecháme sieť s najlepším skóre\n",
    "* Dole pripájam referenčnú ukážku siete. [Zdroj](https://www.pyimagesearch.com/2019/10/28/3-ways-to-create-a-keras-model-with-tensorflow-2-0-sequential-functional-and-model-subclassing/?__s)\n",
    "\n",
    "**TODO:** Vyuzivame 2 modeli miniVGG a FaceVGG, obrazok modelu, zdroj, popis miniVGG modelu: regresia a categorical_crossentropy, popis modelu VGG-Face\n",
    "\n",
    "Na miesto early stopping vyuzivame `ModelCheckpoint` callback.\n",
    "\n",
    "```\n",
    "loss: 3.9471 - accuracy: 0.0424\n",
    "Epoch 00002: val_loss improved from 3.92091 to 3.52644, saving model to ../models/VGG_FACE_AGE_PREDICT/checkpoints/age_model.hdf5\n",
    "```\n",
    "\n",
    "## Reference\n",
    "\n",
    "[1] Rasmus Rothe, Radu Timofte, and Luc Van Gool 2015. DEX: Deep EXpectation of apparent age from a single image. In IEEE International Conference on Computer Vision Workshops (ICCVW).\n",
    "\n",
    "[2] Zakariya Qawaqneh and Arafat Abu Mallouh and Buket D. Barkana 2017. Deep Convolutional Neural Network for Age Estimation based on VGG-Face Model. CoRR, abs/1709.01664.\n",
    "\n",
    "[3] Rasmus Rothe, Radu Timofte, and Luc Van Gool 2016. Deep expectation of real and apparent age from a single image without facial landmarks. International Journal of Computer Vision (IJCV).\n",
    "\n",
    "[4] Omkar M. Parkhi, Andrea Vedaldi, and Andrew Zisserman 2015. Deep Face Recognition. In British Machine Vision Conference.\n",
    "\n",
    "[5] Serengil, S. (2019, July 15). Deep Face Recognition with VGG-Face in Keras. Retrieved from https://sefiks.com/2018/08/06/deep-face-recognition-with-keras/.\n",
    "\n",
    "[6] Rosebrock, A. (2019, November 8). 3 ways to create a Keras model with TensorFlow 2.0 (Sequential, Functional, and Model Subclassing). Retrieved from https://www.pyimagesearch.com/2019/10/28/3-ways-to-create-a-keras-model-with-tensorflow-2-0-sequential-functional-and-model-subclassing."
   ]
  },
  {
   "cell_type": "code",
   "execution_count": null,
   "metadata": {},
   "outputs": [],
   "source": []
  }
 ],
 "metadata": {
  "kernelspec": {
   "display_name": "Python 3",
   "language": "python",
   "name": "python3"
  },
  "language_info": {
   "codemirror_mode": {
    "name": "ipython",
    "version": 3
   },
   "file_extension": ".py",
   "mimetype": "text/x-python",
   "name": "python",
   "nbconvert_exporter": "python",
   "pygments_lexer": "ipython3",
   "version": "3.6.8"
  }
 },
 "nbformat": 4,
 "nbformat_minor": 2
}
